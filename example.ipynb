{
 "cells": [
  {
   "cell_type": "code",
   "execution_count": 1,
   "id": "bb8d8f92",
   "metadata": {},
   "outputs": [],
   "source": [
    "import torch\n",
    "import torch.nn as nn\n",
    "import torchvision.models as models\n",
    "\n",
    "import utils\n",
    "from trainer import Trainer"
   ]
  },
  {
   "cell_type": "code",
   "execution_count": null,
   "id": "ef07c690",
   "metadata": {},
   "outputs": [],
   "source": [
    "# Setting for the training session\n",
    "\n",
    "MODEL_NAME = \"resnet50\"\n",
    "SSL_METHOD = \"DINO\"\n",
    "GPU_NUM = 0\n",
    "\n",
    "num_labels = 3\n",
    "epochs = 50\n",
    "batch_size = 32\n",
    "lr = 1e-4\n",
    "\n",
    "device = torch.device(f'cuda:{GPU_NUM}' if torch.cuda.is_available() else 'cpu')"
   ]
  },
  {
   "cell_type": "code",
   "execution_count": null,
   "id": "5c9e7e9f",
   "metadata": {},
   "outputs": [
    {
     "name": "stdout",
     "output_type": "stream",
     "text": [
      "[ok] Loaded cleanly: LeafVision_DINO_resnet50.pth\n"
     ]
    }
   ],
   "source": [
    "# Initialize the model and classifier for plant disease classification.\n",
    "\n",
    "model, classifier = utils.init_pretrained_model(MODEL_NAME, SSL_METHOD, num_labels=num_labels, device=device)"
   ]
  },
  {
   "cell_type": "code",
   "execution_count": null,
   "id": "163de95c",
   "metadata": {},
   "outputs": [],
   "source": [
    "# Implement your plant disease dataset/dataloader, optimizer, and scheduler (optional) here.\n",
    "\n",
    "from torch.utils.data import DataLoader\n",
    "from torchvision import datasets, transforms\n",
    "\n",
    "train_dataset_path = \"./dataset/Tomato/05images/train\"\n",
    "valid_dataset_path = \"./dataset/Tomato/05images/valid\"\n",
    "test_dataaset_path = \"./dataset/Tomato/test\"\n",
    "\n",
    "train_transform = transforms.Compose([\n",
    "    transforms.RandomResizedCrop(224),\n",
    "    transforms.RandomHorizontalFlip(),\n",
    "    transforms.ToTensor(),\n",
    "    transforms.Normalize((0.4371, 0.5177, 0.3476), (0.1789, 0.1545, 0.1923)),\n",
    "])\n",
    "test_transform = transforms.Compose([\n",
    "    transforms.Resize(256, interpolation=3),\n",
    "    transforms.CenterCrop(224),\n",
    "    transforms.ToTensor(),\n",
    "    transforms.Normalize((0.4371, 0.5177, 0.3476), (0.1789, 0.1545, 0.1923)),\n",
    "])\n",
    "\n",
    "train_set = datasets.ImageFolder(train_dataset_path, transform=train_transform)\n",
    "valid_set = datasets.ImageFolder(valid_dataset_path, transform=test_transform)\n",
    "test_set = datasets.ImageFolder(test_dataset_path, transform=test_transform)\n",
    "\n",
    "train_loader = DataLoader(train_set, batch_size=batch_size)\n",
    "valid_loader = DataLoader(valid_set, batch_size=batch_size)\n",
    "test_loader = DataLoader(test_set, batch_size=batch_size)\n",
    "\n",
    "optimizer = torch.optim.Adam(\n",
    "    params=[\n",
    "        {'params': model.parameters(), 'lr': lr},\n",
    "        {'params': classifier.parameters(), 'lr': lr}\n",
    "    ],\n",
    "    lr=lr\n",
    ")\n",
    "\n",
    "scheduler = torch.optim.lr_scheduler.CosineAnnealingLR(optimizer, epochs, eta_min=0)"
   ]
  },
  {
   "cell_type": "code",
   "execution_count": null,
   "id": "c16ea4f2",
   "metadata": {},
   "outputs": [],
   "source": [
    "# TODO: train_loader, valid_loader, test_loader 구분\n",
    "trainer = Trainer(\n",
    "    model=model,\n",
    "    classifier=classifier,\n",
    "    arch=MODEL_NAME,\n",
    "    train_loader=train_loader,\n",
    "    valid_loader=valid_loader,\n",
    "    test_loader=test_loader,\n",
    "    epochs=epochs,\n",
    "    batch_size=batch_size,\n",
    "    optimizer=optimizer,\n",
    "    scheduler=scheduler\n",
    ")"
   ]
  },
  {
   "cell_type": "code",
   "execution_count": null,
   "id": "41ee8d01",
   "metadata": {},
   "outputs": [],
   "source": []
  }
 ],
 "metadata": {
  "kernelspec": {
   "display_name": "vision",
   "language": "python",
   "name": "python3"
  },
  "language_info": {
   "codemirror_mode": {
    "name": "ipython",
    "version": 3
   },
   "file_extension": ".py",
   "mimetype": "text/x-python",
   "name": "python",
   "nbconvert_exporter": "python",
   "pygments_lexer": "ipython3",
   "version": "3.8.18"
  }
 },
 "nbformat": 4,
 "nbformat_minor": 5
}
